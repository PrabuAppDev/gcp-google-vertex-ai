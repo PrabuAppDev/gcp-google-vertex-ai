{
 "cells": [
  {
   "cell_type": "markdown",
   "id": "9db49a93-2208-4b1f-a22f-9c09e7ed43a4",
   "metadata": {},
   "source": [
    "```mermaid\n",
    "flowchart TD\n",
    "    A[User uploads PDF manual] --> B[Chunk + Embed PDF content]\n",
    "    B --> C[Upload embeddings to Vertex AI Vector Index]\n",
    "    C --> D[Create public Index Endpoint]\n",
    "\n",
    "    subgraph Vertex AI\n",
    "        C\n",
    "        D\n",
    "    end\n",
    "\n",
    "    E[User asks a question about the Acura MDX] --> F[Query Vertex AI Matching Engine]\n",
    "    F --> G[Retrieve relevant chunks]\n",
    "\n",
    "    G --> H[Gemini LLM generates response]\n",
    "    H --> I[Show Answer to User]\n",
    "\n",
    "    %% Crew AI Integration\n",
    "    subgraph Crew AI Agents\n",
    "        J[Weather Agent - Winter]\n",
    "        K[Manual Review Agent]\n",
    "        L[Recommendation Agent]\n",
    "    end\n",
    "\n",
    "    J --> M[Inject seasonal context]\n",
    "    G --> K\n",
    "    K --> L\n",
    "    L --> H\n",
    "```"
   ]
  }
 ],
 "metadata": {
  "kernelspec": {
   "display_name": "Python 3 (ipykernel)",
   "language": "python",
   "name": "python3"
  },
  "language_info": {
   "codemirror_mode": {
    "name": "ipython",
    "version": 3
   },
   "file_extension": ".py",
   "mimetype": "text/x-python",
   "name": "python",
   "nbconvert_exporter": "python",
   "pygments_lexer": "ipython3",
   "version": "3.10.16"
  }
 },
 "nbformat": 4,
 "nbformat_minor": 5
}
